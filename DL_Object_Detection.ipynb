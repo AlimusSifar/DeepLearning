{
 "cells": [
  {
   "attachments": {},
   "cell_type": "markdown",
   "metadata": {},
   "source": [
    "# PART 1: Dataset Generation"
   ]
  },
  {
   "attachments": {},
   "cell_type": "markdown",
   "metadata": {},
   "source": [
    "Packages"
   ]
  },
  {
   "cell_type": "code",
   "execution_count": 9,
   "metadata": {},
   "outputs": [],
   "source": [
    "import os\n",
    "import time\n",
    "import uuid\n",
    "\n",
    "import cv2\n",
    "import numpy as np"
   ]
  },
  {
   "attachments": {},
   "cell_type": "markdown",
   "metadata": {},
   "source": [
    "Define images to collect"
   ]
  },
  {
   "cell_type": "code",
   "execution_count": 10,
   "metadata": {},
   "outputs": [],
   "source": [
    "labels = ['Thumbsup', 'Thumbsdown', 'Thankyou', 'Livelong']\n",
    "number_imgs = 5"
   ]
  },
  {
   "attachments": {},
   "cell_type": "markdown",
   "metadata": {},
   "source": [
    "Setup folders"
   ]
  },
  {
   "cell_type": "code",
   "execution_count": 16,
   "metadata": {},
   "outputs": [
    {
     "data": {
      "text/plain": [
       "('datasets\\\\ObjectDetection', 'datasets\\\\ObjectDetection_LabelImg')"
      ]
     },
     "execution_count": 16,
     "metadata": {},
     "output_type": "execute_result"
    }
   ],
   "source": [
    "IMAGES_PATH = os.path.join('datasets', 'ObjectDetection')\n",
    "LABELIMG_PATH = os.path.join('datasets', 'ObjectDetection_LabelImg')\n",
    "IMAGES_PATH, LABELIMG_PATH\n",
    "# os.path.abspath(IMAGES_PATH)"
   ]
  },
  {
   "cell_type": "code",
   "execution_count": 12,
   "metadata": {},
   "outputs": [],
   "source": [
    "# if not os.path.exists(IMAGES_PATH):\n",
    "#     if os.name == 'posix':\n",
    "#         !mkdir -p {IMAGES_PATH}\n",
    "#     if os.name == 'nt':\n",
    "#         !mkdir {IMAGES_PATH}\n",
    "\n",
    "# for label in labels:\n",
    "#     path = os.path.join(IMAGES_PATH, label)\n",
    "#     if not os.path.exists(path):\n",
    "#         print('Creating path at: ', path)\n",
    "#         if os.name == 'posix':\n",
    "#             !mkdir -p {path}\n",
    "#         if os.name == 'nt':\n",
    "#             !mkdir {path}"
   ]
  },
  {
   "attachments": {},
   "cell_type": "markdown",
   "metadata": {},
   "source": [
    "Capture images"
   ]
  },
  {
   "cell_type": "code",
   "execution_count": 13,
   "metadata": {},
   "outputs": [
    {
     "name": "stdout",
     "output_type": "stream",
     "text": [
      "Collecting images for Thumbsup\n",
      "Collecting image 0\n",
      "datasets\\ObjectDetection\\Thumbsup\\Thumbsup-f9269889-b6ba-11ed-936e-1c1b0dc0f31b.jpg\n",
      "Collecting image 1\n",
      "datasets\\ObjectDetection\\Thumbsup\\Thumbsup-f92d00fd-b6ba-11ed-8afa-1c1b0dc0f31b.jpg\n",
      "Collecting image 2\n",
      "datasets\\ObjectDetection\\Thumbsup\\Thumbsup-f92f4aee-b6ba-11ed-a16e-1c1b0dc0f31b.jpg\n",
      "Collecting image 3\n",
      "datasets\\ObjectDetection\\Thumbsup\\Thumbsup-f931bd44-b6ba-11ed-87df-1c1b0dc0f31b.jpg\n",
      "Collecting image 4\n",
      "datasets\\ObjectDetection\\Thumbsup\\Thumbsup-f9342e12-b6ba-11ed-bd32-1c1b0dc0f31b.jpg\n",
      "Collecting images for Thumbsdown\n",
      "Collecting image 0\n",
      "datasets\\ObjectDetection\\Thumbsdown\\Thumbsdown-f936a1e0-b6ba-11ed-89de-1c1b0dc0f31b.jpg\n",
      "Collecting image 1\n",
      "datasets\\ObjectDetection\\Thumbsdown\\Thumbsdown-f938f80d-b6ba-11ed-95cf-1c1b0dc0f31b.jpg\n",
      "Collecting image 2\n",
      "datasets\\ObjectDetection\\Thumbsdown\\Thumbsdown-f93b473e-b6ba-11ed-8ef0-1c1b0dc0f31b.jpg\n",
      "Collecting image 3\n",
      "datasets\\ObjectDetection\\Thumbsdown\\Thumbsdown-f93d98fe-b6ba-11ed-8416-1c1b0dc0f31b.jpg\n",
      "Collecting image 4\n",
      "datasets\\ObjectDetection\\Thumbsdown\\Thumbsdown-f9400867-b6ba-11ed-b9ec-1c1b0dc0f31b.jpg\n",
      "Collecting images for Thankyou\n",
      "Collecting image 0\n",
      "datasets\\ObjectDetection\\Thankyou\\Thankyou-f9425a8b-b6ba-11ed-a2a8-1c1b0dc0f31b.jpg\n",
      "Collecting image 1\n",
      "datasets\\ObjectDetection\\Thankyou\\Thankyou-f944a352-b6ba-11ed-b201-1c1b0dc0f31b.jpg\n",
      "Collecting image 2\n",
      "datasets\\ObjectDetection\\Thankyou\\Thankyou-f946f33a-b6ba-11ed-920e-1c1b0dc0f31b.jpg\n",
      "Collecting image 3\n",
      "datasets\\ObjectDetection\\Thankyou\\Thankyou-f94945cb-b6ba-11ed-9c1c-1c1b0dc0f31b.jpg\n",
      "Collecting image 4\n",
      "datasets\\ObjectDetection\\Thankyou\\Thankyou-f94bb6c1-b6ba-11ed-b2f4-1c1b0dc0f31b.jpg\n",
      "Collecting images for Livelong\n",
      "Collecting image 0\n",
      "datasets\\ObjectDetection\\Livelong\\Livelong-f94e27a9-b6ba-11ed-9ea2-1c1b0dc0f31b.jpg\n",
      "Collecting image 1\n",
      "datasets\\ObjectDetection\\Livelong\\Livelong-f95098c7-b6ba-11ed-a6b8-1c1b0dc0f31b.jpg\n",
      "Collecting image 2\n",
      "datasets\\ObjectDetection\\Livelong\\Livelong-f95309d0-b6ba-11ed-8413-1c1b0dc0f31b.jpg\n",
      "Collecting image 3\n",
      "datasets\\ObjectDetection\\Livelong\\Livelong-f9557dbb-b6ba-11ed-86c0-1c1b0dc0f31b.jpg\n",
      "Collecting image 4\n",
      "datasets\\ObjectDetection\\Livelong\\Livelong-f957ed0f-b6ba-11ed-97f8-1c1b0dc0f31b.jpg\n"
     ]
    }
   ],
   "source": [
    "# for label in labels:\n",
    "#     # cap = cv2.VideoCapture(0) # Connect to the camera\n",
    "#     print(f'Collecting images for {label}')\n",
    "#     # time.sleep(5)\n",
    "#     for imgnum in range(number_imgs):\n",
    "#         print('Collecting image {}'.format(imgnum))\n",
    "#         # ret, frame = cap.read()\n",
    "#         imgname = os.path.join(IMAGES_PATH, label, f'{label}-{uuid.uuid1()}.jpg')\n",
    "#         print(imgname)\n",
    "#         cv2.imwrite(imgname, np.array([[1, 2, 3], [4, 5, 6]]))\n",
    "#         # cv2.imshow('frame', frame)\n",
    "#         # time.sleep(2)\n",
    "\n",
    "#         if cv2.waitKey(1) & 0xFF == ord('q'):\n",
    "#             break\n",
    "#     # cap.release()"
   ]
  },
  {
   "attachments": {},
   "cell_type": "markdown",
   "metadata": {},
   "source": [
    "Image labelling [MANUAL EDITING]"
   ]
  },
  {
   "cell_type": "code",
   "execution_count": 17,
   "metadata": {},
   "outputs": [],
   "source": [
    "# if not os.path.exists(LABELIMG_PATH):\n",
    "#     if os.name == 'posix':\n",
    "#         !mkdir -p {LABELIMG_PATH}\n",
    "#     if os.name == 'nt':\n",
    "#         !mkdir {LABELIMG_PATH}"
   ]
  },
  {
   "cell_type": "code",
   "execution_count": 18,
   "metadata": {},
   "outputs": [
    {
     "name": "stderr",
     "output_type": "stream",
     "text": [
      "Cloning into 'datasets\\ObjectDetection_LabelImg'...\n"
     ]
    }
   ],
   "source": [
    "# !git clone https://github.com/tzutalin/labelImg {LABELIMG_PATH}"
   ]
  },
  {
   "cell_type": "code",
   "execution_count": 20,
   "metadata": {},
   "outputs": [],
   "source": [
    "# if os.name == 'posix':\n",
    "#     !cd {LABELIMG_PATH} && make qt5py3\n",
    "# if os.name == 'nt':\n",
    "#     !cd {LABELIMG_PATH} && pyrcc5 -o libs/resources.py resources.qrc"
   ]
  },
  {
   "cell_type": "code",
   "execution_count": null,
   "metadata": {},
   "outputs": [],
   "source": [
    "# !cd {LABELIMG_PATH} && python labelImg.py"
   ]
  },
  {
   "attachments": {},
   "cell_type": "markdown",
   "metadata": {},
   "source": [
    "Dataset splitting"
   ]
  },
  {
   "cell_type": "code",
   "execution_count": null,
   "metadata": {},
   "outputs": [],
   "source": []
  },
  {
   "attachments": {},
   "cell_type": "markdown",
   "metadata": {},
   "source": [
    "# PART 2: Training & Detection"
   ]
  },
  {
   "cell_type": "code",
   "execution_count": null,
   "metadata": {},
   "outputs": [],
   "source": [
    "import os"
   ]
  },
  {
   "cell_type": "code",
   "execution_count": null,
   "metadata": {},
   "outputs": [],
   "source": [
    "CUSTOM_MODEL_NAME = \"MY_SSD_MOBNET\"\n",
    "PRETRAINED_MODEL_NAME = \"ssd_mobilenet_v2_fpnlite_320x320_coco17_tpu-8\"\n",
    "PRETRAINED_MODEL_URL = (\n",
    "    \"http://download.tensorflow.org/models/object_detection/tf2/20200711/\"\n",
    "    + PRETRAINED_MODEL_NAME\n",
    "    + \".tar.gz\"\n",
    ")\n",
    "TF_RECORD_SCRIPT_NAME = \"generate_tfrecord.py\"\n",
    "LABEL_MAP_NAME = \"label_map.pbtxt\""
   ]
  },
  {
   "cell_type": "code",
   "execution_count": null,
   "metadata": {},
   "outputs": [],
   "source": [
    "paths = {\n",
    "    \"WORKSPACE_PATH\": os.path.join(\"Tensorflow\", \"workspace\"),\n",
    "    \"SCRIPTS_PATH\": os.path.join(\"Tensorflow\", \"scripts\"),\n",
    "    \"APIMODEL_PATH\": os.path.join(\"Tensorflow\", \"models\"),\n",
    "    \"ANNOTATION_PATH\": os.path.join(\"Tensorflow\", \"workspace\", \"annotations\"),\n",
    "    \"IMAGE_PATH\": os.path.join(\"Tensorflow\", \"workspace\", \"images\"),\n",
    "    \"MODEL_PATH\": os.path.join(\"Tensorflow\", \"workspace\", \"models\"),\n",
    "    \"PRETRAINED_MODEL_PATH\": os.path.join(\n",
    "        \"Tensorflow\", \"workspace\", \"pre-trained-models\"\n",
    "    ),\n",
    "    \"CHECKPOINT_PATH\": os.path.join(\n",
    "        \"Tensorflow\", \"workspace\", \"models\", CUSTOM_MODEL_NAME\n",
    "    ),\n",
    "    \"OUTPUT_PATH\": os.path.join(\n",
    "        \"Tensorflow\", \"workspace\", \"models\", CUSTOM_MODEL_NAME, \"export\"\n",
    "    ),\n",
    "    \"TFJS_PATH\": os.path.join(\n",
    "        \"Tensorflow\", \"workspace\", \"models\", CUSTOM_MODEL_NAME, \"tfjsexport\"\n",
    "    ),\n",
    "    \"TFLITE_PATH\": os.path.join(\n",
    "        \"Tensorflow\", \"workspace\", \"models\", CUSTOM_MODEL_NAME, \"tfliteexport\"\n",
    "    ),\n",
    "    \"PROTOC_PATH\": os.path.join(\"Tensorflow\", \"protoc\"),\n",
    "}"
   ]
  }
 ],
 "metadata": {
  "kernelspec": {
   "display_name": ".venv",
   "language": "python",
   "name": "python3"
  },
  "language_info": {
   "codemirror_mode": {
    "name": "ipython",
    "version": 3
   },
   "file_extension": ".py",
   "mimetype": "text/x-python",
   "name": "python",
   "nbconvert_exporter": "python",
   "pygments_lexer": "ipython3",
   "version": "3.8.10"
  },
  "orig_nbformat": 4,
  "vscode": {
   "interpreter": {
    "hash": "5c536d7f0dbb105163a05a401cc4cd2620e40b843a0f9b5d15ef4344934ad204"
   }
  }
 },
 "nbformat": 4,
 "nbformat_minor": 2
}
